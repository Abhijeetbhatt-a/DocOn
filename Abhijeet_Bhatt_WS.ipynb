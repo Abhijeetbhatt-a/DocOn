{
 "cells": [
  {
   "cell_type": "code",
   "execution_count": 150,
   "metadata": {},
   "outputs": [],
   "source": [
    "from bs4 import BeautifulSoup\n",
    "from urllib.request import Request, urlopen\n",
    "import pandas as np"
   ]
  },
  {
   "cell_type": "code",
   "execution_count": 151,
   "metadata": {},
   "outputs": [],
   "source": [
    "import requests"
   ]
  },
  {
   "cell_type": "code",
   "execution_count": 155,
   "metadata": {},
   "outputs": [],
   "source": [
    "def pri(i):\n",
    "    l = []\n",
    "    url= \"https://www.zomato.com/bangalore/south-bangalore-restaurants?page=\"+str(i)\n",
    "    SB_restaurants = {}\n",
    "    restaurant_id = 1000\n",
    "    def extract_source(url):\n",
    "            headers = {\"User-Agent\":\"Mozilla/5.0\"}\n",
    "            source=requests.get(url, headers=headers).text\n",
    "            return source\n",
    "\n",
    "    soup = BeautifulSoup(extract_source(url),\"html.parser\")\n",
    "    restaurants = soup.find_all('article',{'class':'search-result'})\n",
    "    j = []\n",
    "    for restaurant in restaurants :\n",
    "        total = restaurant.find('div',{'class':'ta-right'}).text\n",
    "        j.append(total)\n",
    "    f = []\n",
    "    for i in j:\n",
    "        if(i[-11]=='\\n'):\n",
    "            f.append(i[-10:-7])\n",
    "        else:\n",
    "            f.append(i[-11:-7])\n",
    "            \n",
    "    f = pd.DataFrame(f,columns=['Votes'])\n",
    "    \n",
    "    for restaurant in restaurants :      \n",
    "        restaurant_name = restaurant.find('a',{'class':'result-title'}).text\n",
    "        restaurant_tag = restaurant.find('div',{'class':'res-snippet-small-establishment'})\n",
    "        restaurant_type = restaurant_tag.text if restaurant_tag else 'N/A'\n",
    "        area = restaurant.find('b').text\n",
    "        ratings = restaurant.find('div',{'class':'rating-popup'}).text\n",
    "        restaurant_id += 1\n",
    "        l.append([restaurant_id ,restaurant_name ,ratings,area])\n",
    "    return l,f"
   ]
  },
  {
   "cell_type": "code",
   "execution_count": 158,
   "metadata": {},
   "outputs": [],
   "source": [
    "k,f = pri(1)"
   ]
  },
  {
   "cell_type": "code",
   "execution_count": 165,
   "metadata": {},
   "outputs": [],
   "source": [
    "import pandas as pd\n",
    "h = pd.DataFrame(k,columns = ['Restaurant_ID','Restaurant_name','Restaurant_Rating','Area'])\n",
    "h['Votes'] = f\n",
    "for i in range(1,6):\n",
    "    k,f = pri(i+1)\n",
    "    l = pd.DataFrame(k,columns = ['Restaurant_ID','Restaurant_name','Restaurant_Rating','Area'])\n",
    "    l['Restaurant_ID'] = l.iloc[l.index]['Restaurant_ID']+i*15\n",
    "    l['Votes'] = f\n",
    "    h = h.append(l)"
   ]
  },
  {
   "cell_type": "code",
   "execution_count": 166,
   "metadata": {},
   "outputs": [],
   "source": [
    "h.index = h.Restaurant_ID\n",
    "h = h.drop('Restaurant_ID',axis=1)"
   ]
  },
  {
   "cell_type": "code",
   "execution_count": 167,
   "metadata": {},
   "outputs": [],
   "source": [
    "h['Restaurant_Rating'] = h['Restaurant_Rating'].apply(lambda x: x[41:44])"
   ]
  },
  {
   "cell_type": "code",
   "execution_count": 187,
   "metadata": {},
   "outputs": [],
   "source": [
    "h = h.drop([1081, 1082, 1083, 1084, 1085, 1086, 1087, 1088,\n",
    "            1089, 1090],axis=0)"
   ]
  },
  {
   "cell_type": "code",
   "execution_count": 189,
   "metadata": {},
   "outputs": [],
   "source": [
    "h.to_csv('abhijeet_bhatt.csv')"
   ]
  },
  {
   "cell_type": "code",
   "execution_count": null,
   "metadata": {},
   "outputs": [],
   "source": []
  }
 ],
 "metadata": {
  "kernelspec": {
   "display_name": "Python 3",
   "language": "python",
   "name": "python3"
  },
  "language_info": {
   "codemirror_mode": {
    "name": "ipython",
    "version": 3
   },
   "file_extension": ".py",
   "mimetype": "text/x-python",
   "name": "python",
   "nbconvert_exporter": "python",
   "pygments_lexer": "ipython3",
   "version": "3.7.4"
  }
 },
 "nbformat": 4,
 "nbformat_minor": 2
}
